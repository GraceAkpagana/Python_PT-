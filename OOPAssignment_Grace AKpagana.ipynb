{
 "cells": [
  {
   "cell_type": "markdown",
   "id": "0acc2290",
   "metadata": {
    "id": "0acc2290"
   },
   "source": [
    "### OOP Asignment"
   ]
  },
  {
   "cell_type": "markdown",
   "id": "5596f158",
   "metadata": {
    "id": "5596f158"
   },
   "source": [
    "**Kindly read the instructions carefully to solve the problems**\n",
    "\n",
    "**Make good use of try,except,finally and exceptions**"
   ]
  },
  {
   "cell_type": "markdown",
   "id": "478c3dde",
   "metadata": {
    "id": "478c3dde"
   },
   "source": [
    "### Q1 Numbers"
   ]
  },
  {
   "cell_type": "markdown",
   "id": "PPHM5gum2zNf",
   "metadata": {
    "id": "PPHM5gum2zNf"
   },
   "source": []
  },
  {
   "cell_type": "markdown",
   "id": "59ddfbd6",
   "metadata": {
    "id": "59ddfbd6"
   },
   "source": [
    "- Create a Class **Number** initialized with a single number.\n",
    "- Create the following methods for the class:\n",
    "    * check_even : Check if number is an even number (Return True or False)\n",
    "    * check_odd:  Check if number is an odd number (Return True or False)\n",
    "    * check_prime : Check if number is prime number (Return True or False)\n",
    "    * check_perfect: Chek if a number is a perfect square  (Return True or False) eg 100 is a perfect square because 10*10 =100\n",
    "    \n",
    "    "
   ]
  },
  {
   "cell_type": "code",
   "execution_count": 7,
   "id": "RmWMxINifAGx",
   "metadata": {
    "id": "RmWMxINifAGx"
   },
   "outputs": [],
   "source": [
    "import math\n",
    "\n",
    "class Number:\n",
    "    def __init__(self, num):\n",
    "        self.num = num\n",
    "        \n",
    "    def check_even(self):\n",
    "        return self.num % 2 == 0\n",
    "    \n",
    "    def check_odd(self):\n",
    "        return self.num % 2 == 1\n",
    "    \n",
    "    def check_prime(self):\n",
    "        if self.num < 2:\n",
    "            return False\n",
    "        for i in range(2, int(math.sqrt(self.num))+1):\n",
    "            if self.num % i == 0:\n",
    "                return False\n",
    "        return True\n",
    "    \n",
    "    def check_perfect(self):\n",
    "        root = math.sqrt(self.num)\n",
    "        return int(root + 0.5) ** 2 == self.num"
   ]
  },
  {
   "cell_type": "code",
   "execution_count": 11,
   "id": "ORw3nGLP7mDm",
   "metadata": {
    "id": "ORw3nGLP7mDm"
   },
   "outputs": [
    {
     "name": "stdout",
     "output_type": "stream",
     "text": [
      "False\n",
      "True\n",
      "False\n",
      "True\n"
     ]
    }
   ],
   "source": [
    "num = Number(25)\n",
    "print(num.check_even())   \n",
    "print(num.check_odd())    \n",
    "print(num.check_prime())  \n",
    "print(num.check_perfect())\n"
   ]
  },
  {
   "cell_type": "code",
   "execution_count": 14,
   "id": "08f93ebe",
   "metadata": {},
   "outputs": [
    {
     "name": "stdout",
     "output_type": "stream",
     "text": [
      "False\n",
      "True\n",
      "False\n",
      "True\n"
     ]
    }
   ],
   "source": [
    "num1=Number(100)\n",
    "print(num.check_even())   \n",
    "print(num.check_odd())    \n",
    "print(num.check_prime())  \n",
    "print(num.check_perfect())"
   ]
  },
  {
   "cell_type": "markdown",
   "id": "2a88331d",
   "metadata": {
    "id": "2a88331d"
   },
   "source": [
    "### Q2 Points"
   ]
  },
  {
   "cell_type": "markdown",
   "id": "e3ea2034",
   "metadata": {
    "id": "e3ea2034"
   },
   "source": [
    "* Define a class Point that represents a point in the 2D plane. The point has x and y coordinate.\n",
    "* Define the following functions:\n",
    "    - point_2D: return the point in this format \"Point(3,2)\"\n",
    "    - getX : return the value of x coordinate\n",
    "    - getY: return the value of y coordiante\n",
    "    - add_transfrom : add another point to the created point. eg P(1,2)+P(2,3) = P(3,5)\n",
    "    - distance_origin : return the distance from origin(0,0)  ie ((x ** 2)+ (y ** 2)) ** 0.5\n",
    "    - distance: calculate the distance between two point i.e ((x2-x1) ** 2 + (y2-y1) ** 2)**0.5\n",
    "    "
   ]
  },
  {
   "cell_type": "code",
   "execution_count": 17,
   "id": "55vExddR-GjD",
   "metadata": {
    "id": "55vExddR-GjD"
   },
   "outputs": [],
   "source": [
    "import math\n",
    "\n",
    "class Point():\n",
    "    \n",
    "    def __init__(self, x, y):\n",
    "        self.x = x\n",
    "        self.y = y\n",
    "        \n",
    "    def __str__(self):\n",
    "        return f\"Point({self.x},{self.y})\"\n",
    "    \n",
    "    def getX(self):\n",
    "        return self.x\n",
    "    \n",
    "    def getY(self):\n",
    "        return self.y\n",
    "    \n",
    "    def add_transform(self, point):\n",
    "        self.x += point.x\n",
    "        self.y += point.y\n",
    "    \n",
    "    def distance_origin(self):\n",
    "        return math.sqrt(self.x**2 + self.y**2)\n",
    "    \n",
    "    def distance(self, other_point):\n",
    "        return math.sqrt((other_point.x - self.x)**2 + (other_point.y - self.y)**2)\n"
   ]
  },
  {
   "cell_type": "code",
   "execution_count": 19,
   "id": "sUKnib8gBzF_",
   "metadata": {
    "id": "sUKnib8gBzF_"
   },
   "outputs": [
    {
     "name": "stdout",
     "output_type": "stream",
     "text": [
      "Point(3,2)\n",
      "3\n",
      "2\n",
      "Point(5,5)\n",
      "7.0710678118654755\n",
      "5.656854249492381\n"
     ]
    }
   ],
   "source": [
    "p1 = Point(3, 2)\n",
    "print(p1)\n",
    "print(p1.getX()) \n",
    "print(p1.getY())\n",
    "\n",
    "p2 = Point(2, 3)\n",
    "p1.add_transform(p2)\n",
    "print(p1) \n",
    "\n",
    "print(p1.distance_origin())  \n",
    "\n",
    "p3 = Point(1, 1)\n",
    "print(p1.distance(p3))\n"
   ]
  },
  {
   "cell_type": "markdown",
   "id": "acf4db9e",
   "metadata": {
    "id": "acf4db9e"
   },
   "source": [
    "### Q3 Polygon Area Calulator"
   ]
  },
  {
   "cell_type": "markdown",
   "id": "18c26367",
   "metadata": {
    "id": "18c26367"
   },
   "source": [
    "- Using OOP create a **Square** and a **Rectangle** class\n"
   ]
  },
  {
   "cell_type": "markdown",
   "id": "a6d80485",
   "metadata": {
    "id": "a6d80485"
   },
   "source": [
    "#### Rectangle Class"
   ]
  },
  {
   "cell_type": "markdown",
   "id": "915caa6c",
   "metadata": {
    "id": "915caa6c"
   },
   "source": [
    "- The rectangle class should be intialized with `width` and `height` attribute only.\n",
    "\n",
    "- The rectangle class should have the following methods:\n",
    "     - set_width\n",
    "     - set_height\n",
    "     - get_area: Returns area (width * height)\n",
    "     - get_perimeter: Returns perimeter (2 * width        + 2 * height)\n",
    "     - get_diagonal: Returns diagonal ((width ** 2        +  height ** 2) ** .5)\n",
    "     - get_amount_inside: Takes another shape (square or rectangle) as an argument. Returns the number of times the passed in shape could fit inside the shape (with no rotations). **For instance, a rectangle with a width of 4 and a height of 8 could fit in two squares with sides of 4.**\n",
    "     \n",
    "    "
   ]
  },
  {
   "cell_type": "code",
   "execution_count": 21,
   "id": "9y44qVGXI13I",
   "metadata": {
    "id": "9y44qVGXI13I"
   },
   "outputs": [],
   "source": [
    "class Rectangle():\n",
    "    def __init__(self, width, height):\n",
    "        self.width = width\n",
    "        self.height = height\n",
    "    \n",
    "    def set_width(self, width):\n",
    "        self.width = width\n",
    "    \n",
    "    def set_height(self, height):\n",
    "        self.height = height\n",
    "    \n",
    "    def get_area(self):\n",
    "        return self.width * self.height\n",
    "    \n",
    "    def get_perimeter(self):\n",
    "        return 2 * (self.width + self.height)\n",
    "    \n",
    "    def get_diagonal(self):\n",
    "        return (self.width ** 2 + self.height ** 2) ** .5\n",
    "    \n",
    "    def get_amount_inside(self, shape):\n",
    "        if isinstance(shape, Square):\n",
    "            return (self.width // shape.side) * (self.height // shape.side)\n",
    "        elif isinstance(shape, Rectangle):\n",
    "            return (self.width // shape.width) * (self.height // shape.height)\n",
    "        else:\n",
    "            raise TypeError(\"unsupported shape type\")\n"
   ]
  },
  {
   "cell_type": "code",
   "execution_count": null,
   "id": "3cd656d3",
   "metadata": {},
   "outputs": [],
   "source": [
    "class Square(Rectangle):\n",
    "    def __init__(self, side):\n",
    "        super().__init__(side, side)\n",
    "        self.side = side\n",
    "    \n",
    "    def __repr__(self):\n",
    "        return f\"Square(side={self.side})\"\n",
    "    \n",
    "    def __str__(self):\n",
    "        return f\"Square with side {self.side}\"\n",
    "    \n",
    "    def get_amount_inside(self, shape):\n",
    "        if isinstance(shape, Square) or isinstance(shape, Rectangle):\n",
    "            return self.get_area() // shape.get_area()\n",
    "        else:\n",
    "            raise TypeError(\"unsupported shape type\")"
   ]
  },
  {
   "cell_type": "code",
   "execution_count": 29,
   "id": "93b7b095",
   "metadata": {},
   "outputs": [
    {
     "data": {
      "text/plain": [
       "8.94427190999916"
      ]
     },
     "execution_count": 29,
     "metadata": {},
     "output_type": "execute_result"
    }
   ],
   "source": [
    " num = Rectangle(4,8)\n",
    "Rectangle.get_area(num)\n",
    "\n",
    "Rectangle.get_perimeter(num)\n",
    "\n",
    "Rectangle.get_diagonal(num)\n"
   ]
  },
  {
   "cell_type": "markdown",
   "id": "28d82897",
   "metadata": {
    "id": "28d82897"
   },
   "source": [
    "### Square class\n"
   ]
  },
  {
   "cell_type": "markdown",
   "id": "b8bb7e5d",
   "metadata": {
    "id": "b8bb7e5d"
   },
   "source": [
    "The Square class should be a subclass of Rectangle. When a Square object is created, a single side length is passed in. The __init__ method should store the side length in both the width and height attributes from the Rectangle class."
   ]
  },
  {
   "cell_type": "markdown",
   "id": "58f0d234",
   "metadata": {
    "id": "58f0d234"
   },
   "source": [
    "### Q4 Banking System"
   ]
  },
  {
   "cell_type": "markdown",
   "id": "4a02e285",
   "metadata": {
    "id": "4a02e285"
   },
   "source": [
    "* Using Python OOP lets create a bank account.\n",
    "* The bank account should be initalized with  first name, last name, gender and **balance with default of 0**\n",
    "* The class should have the following methods:\n",
    "  - **information**: Display the user full name and the balance in his/her account\n",
    "    eg **Delali Adrah your balance is GHC20.00**\n",
    "    \n",
    "  - deposit: Ask the user  how much he or she wants to deposit in his/her account.\n",
    "  \n",
    "  - **withdraw**: Ask the user how muh he/she want to withdraw form his/her account. Transations is successfuly only if he/she have more money in his/her account and display **Delali Adrah you have withdrawn GHC10.00 from your account. Your balance is GHC10.00**\n",
    "  -**no_transactions**: Displays the total number of successful transaction(deposit and withdraw). eg **Delali Adrah you have made 1 successful transaction(s)**\n",
    "  "
   ]
  },
  {
   "cell_type": "code",
   "execution_count": 31,
   "id": "ba6e2844",
   "metadata": {},
   "outputs": [],
   "source": [
    "class BankAccount():\n",
    "    def __init__(self, first_name, last_name, gender, balance=0):\n",
    "        self.first_name = first_name\n",
    "        self.last_name = last_name\n",
    "        self.gender = gender\n",
    "        self.balance = balance\n",
    "        self.transactions = 0\n",
    "\n",
    "    def information(self):\n",
    "        print(f\"{self.first_name} {self.last_name}, your balance is GHC{self.balance:.2f}\")\n",
    "\n",
    "    def deposit(self):\n",
    "        amount = float(input(\"Enter the amount you want to deposit: \"))\n",
    "        self.balance += amount\n",
    "        self.transactions += 1\n",
    "        print(f\"{self.first_name} {self.last_name}, you have deposited GHC{amount:.2f} into your account.\")\n",
    "\n",
    "    def withdraw(self):\n",
    "        amount = float(input(\"Enter the amount you want to withdraw: \"))\n",
    "        if amount > self.balance:\n",
    "            print(\"Transaction failed. You do not have enough balance.\")\n",
    "        else:\n",
    "            self.balance -= amount\n",
    "            self.transactions += 1\n",
    "            print(f\"{self.first_name} {self.last_name}, you have withdrawn GHC{amount:.2f} from your account. Your balance is GHC{self.balance:.2f}\")\n",
    "\n",
    "    def no_transactions(self):\n",
    "        print(f\"{self.first_name} {self.last_name}, you have made {self.transactions} successful transaction(s).\")\n"
   ]
  },
  {
   "cell_type": "code",
   "execution_count": 33,
   "id": "1ec777d1",
   "metadata": {},
   "outputs": [
    {
     "name": "stdout",
     "output_type": "stream",
     "text": [
      "Delali Adrah, your balance is GHC0.00\n",
      "Enter the amount you want to deposit: 50\n",
      "Delali Adrah, you have deposited GHC50.00 into your account.\n",
      "Enter the amount you want to withdraw: 10\n",
      "Delali Adrah, you have withdrawn GHC10.00 from your account. Your balance is GHC40.00\n",
      "Delali Adrah, you have made 2 successful transaction(s).\n"
     ]
    }
   ],
   "source": [
    "\n",
    "account = BankAccount(\"Delali\", \"Adrah\", \"Female\")\n",
    "\n",
    "account.information()\n",
    "\n",
    "\n",
    "account.deposit()\n",
    "\n",
    "\n",
    "account.withdraw()\n",
    "\n",
    "account.no_transactions()"
   ]
  },
  {
   "cell_type": "markdown",
   "id": "c94432a7",
   "metadata": {
    "id": "c94432a7"
   },
   "source": [
    "### Q4 Stacks"
   ]
  },
  {
   "cell_type": "markdown",
   "id": "3fdd4461",
   "metadata": {
    "id": "3fdd4461"
   },
   "source": [
    "A stack is a data structure that stores items in an Last-In/First-Out manner. "
   ]
  },
  {
   "cell_type": "markdown",
   "id": "f0ad4186",
   "metadata": {
    "id": "f0ad4186"
   },
   "source": [
    "1. Create a class Stack with instance variable items initialized to an empty list.\n",
    "2. Define methods push, pop and is_empty inside the class Stack.\n",
    "3. The method push appends data to items.\n",
    "4. The method pop pops the first element in items.\n",
    "5. The method is_empty returns True only if items is empty.\n",
    "6. Method to count the total number of element in the list"
   ]
  },
  {
   "cell_type": "code",
   "execution_count": 37,
   "id": "93aef011",
   "metadata": {
    "id": "93aef011"
   },
   "outputs": [],
   "source": [
    "class Stack():\n",
    "    def __init__(self):\n",
    "        self.items = []\n",
    "\n",
    "    def push(self, data):\n",
    "        self.items.append(data)\n",
    "\n",
    "    def pop(self):\n",
    "        if not self.is_empty():\n",
    "            return self.items.pop()\n",
    "\n",
    "    def is_empty(self):\n",
    "        return len(self.items) == 0\n",
    "\n",
    "    def count_elements(self):\n",
    "        return len(self.items)\n"
   ]
  }
 ],
 "metadata": {
  "colab": {
   "provenance": []
  },
  "kernelspec": {
   "display_name": "Python 3 (ipykernel)",
   "language": "python",
   "name": "python3"
  },
  "language_info": {
   "codemirror_mode": {
    "name": "ipython",
    "version": 3
   },
   "file_extension": ".py",
   "mimetype": "text/x-python",
   "name": "python",
   "nbconvert_exporter": "python",
   "pygments_lexer": "ipython3",
   "version": "3.9.13"
  }
 },
 "nbformat": 4,
 "nbformat_minor": 5
}
