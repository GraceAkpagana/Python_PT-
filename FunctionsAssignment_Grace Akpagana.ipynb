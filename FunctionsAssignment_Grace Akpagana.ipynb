{
 "cells": [
  {
   "cell_type": "markdown",
   "id": "352dd2e3",
   "metadata": {},
   "source": [
    "### Q1\n",
    "\n",
    "Define a python function that calculate the perimeter of the rectangle\n",
    "\n",
    "Formular\n",
    "\n",
    "formular => 2 X length + 2 X Width"
   ]
  },
  {
   "cell_type": "code",
   "execution_count": null,
   "id": "3e922865",
   "metadata": {},
   "outputs": [],
   "source": [
    " def perimiter(lenght,width):\n",
    "    return (lenght+width)*2"
   ]
  },
  {
   "cell_type": "code",
   "execution_count": null,
   "id": "a1f4f0ef",
   "metadata": {},
   "outputs": [],
   "source": [
    "perimiter(56,80)"
   ]
  },
  {
   "cell_type": "markdown",
   "id": "a56ccec8",
   "metadata": {},
   "source": [
    "### Q2\n",
    "Define the function to calculate the area of a circle. Round the answer to 3 decimal places.\n",
    "\n",
    "**Preamble**\n",
    " - Take pi as 22/7\n",
    " - formular pi x r ** 2"
   ]
  },
  {
   "cell_type": "code",
   "execution_count": null,
   "id": "40ef6932",
   "metadata": {},
   "outputs": [],
   "source": [
    "def area(r,pi=22/7):\n",
    "    Area = pi*(r**2)\n",
    "    print(f\"Area of the circle is:{Area}\")"
   ]
  },
  {
   "cell_type": "code",
   "execution_count": null,
   "id": "8b3ef841",
   "metadata": {},
   "outputs": [],
   "source": [
    "area(3)"
   ]
  },
  {
   "cell_type": "code",
   "execution_count": null,
   "id": "997a7654",
   "metadata": {},
   "outputs": [],
   "source": [
    "area_rounded = round(28.285714285714285,2)\n",
    "print(area_rounded)"
   ]
  },
  {
   "cell_type": "markdown",
   "id": "be5a6965",
   "metadata": {},
   "source": [
    "### Q3\n",
    "Define a function that takes a list of numbers and print out the **mean**, **median** and **mode**.\n",
    "\n",
    "- Test your function with the list b\n",
    "\n",
    "`b = [2,3,4,6,7,3,4,3,2,1,3]`"
   ]
  },
  {
   "cell_type": "code",
   "execution_count": 40,
   "id": "c3748223",
   "metadata": {},
   "outputs": [],
   "source": [
    "b = [2,3,4,6,7,3,4,3,2,1,3]\n",
    "numbers = list(b)\n",
    "from collections import Counter\n",
    "import statistics\n",
    "def stats(numbers):\n",
    "    mean = sum(numbers) / len(numbers)\n",
    "    print(\"Mean:\", mean)\n",
    "    median = statistics.median(numbers)\n",
    "    print(\"Median:\", median)\n",
    "    freqs = Counter(numbers)\n",
    "    mode = [num for num, freq in freqs.items() if freq == max(freqs.values())]\n",
    "    print(\"Mode:\", mode)"
   ]
  },
  {
   "cell_type": "code",
   "execution_count": 38,
   "id": "df0f11e8",
   "metadata": {},
   "outputs": [
    {
     "name": "stdout",
     "output_type": "stream",
     "text": [
      "Mean: 3.4545454545454546\n",
      "Median: 3\n",
      "Mode: [3]\n"
     ]
    }
   ],
   "source": [
    "stats(numbers)"
   ]
  },
  {
   "cell_type": "markdown",
   "id": "3313ab10",
   "metadata": {},
   "source": [
    "### Q4\n",
    "Define a function that prints out the list of the first 20 prime numbers"
   ]
  },
  {
   "cell_type": "code",
   "execution_count": 25,
   "id": "ed8b7c6c",
   "metadata": {},
   "outputs": [
    {
     "ename": "IndentationError",
     "evalue": "expected an indented block (4236523245.py, line 5)",
     "output_type": "error",
     "traceback": [
      "\u001b[1;36m  File \u001b[1;32m\"C:\\Users\\CORNELLIA\\AppData\\Local\\Temp\\ipykernel_15124\\4236523245.py\"\u001b[1;36m, line \u001b[1;32m5\u001b[0m\n\u001b[1;33m    if (i % number) == 0:\u001b[0m\n\u001b[1;37m    ^\u001b[0m\n\u001b[1;31mIndentationError\u001b[0m\u001b[1;31m:\u001b[0m expected an indented block\n"
     ]
    }
   ],
   "source": []
  },
  {
   "cell_type": "markdown",
   "id": "ef1c5863",
   "metadata": {},
   "source": [
    "#### Q5\n",
    "Define a function that takes a list of strings and print out the string and the length of the string.\n",
    "\n",
    "**Example of expected output**\n",
    "\n",
    "{\"Kofi\":4,\n",
    "\"Ama\":3,\n",
    "\"Sedem\":5}"
   ]
  },
  {
   "cell_type": "code",
   "execution_count": 70,
   "id": "a566c888",
   "metadata": {},
   "outputs": [],
   "source": [
    "def print_string_lengths(strings):\n",
    "    for s in strings:\n",
    "        print(s,len(s))"
   ]
  },
  {
   "cell_type": "code",
   "execution_count": 68,
   "id": "74d6825e",
   "metadata": {},
   "outputs": [
    {
     "name": "stdout",
     "output_type": "stream",
     "text": [
      "Kofi 4\n",
      "Ama 3\n",
      "Sedem 5\n"
     ]
    }
   ],
   "source": [
    "strings=[\"Kofi\",\"Ama\",\"Sedem\"]\n",
    "print_string_lengths(strings)\n"
   ]
  },
  {
   "cell_type": "markdown",
   "id": "5072c8d8",
   "metadata": {},
   "source": [
    "### Q6\n",
    "Define a function that takes a list of strings and numbers and print out only the strings and the position of the strings.\n",
    "\n",
    "**Preamble**\n",
    "\n",
    "names = ['sedem', 'Kofi', 'kobla']\n",
    "\n",
    "**Expected Output**\n",
    "\n",
    "{'sedem': P0, 'Kofi': P1, 'kobla': P2}"
   ]
  },
  {
   "cell_type": "code",
   "execution_count": 77,
   "id": "ca52778b",
   "metadata": {},
   "outputs": [],
   "source": [
    "def print_strings_with_positions(names):\n",
    "    for i, value in enumerate(names):\n",
    "        if isinstance(value, str):\n",
    "            print(f\" '{value}': {i}\")"
   ]
  },
  {
   "cell_type": "code",
   "execution_count": 78,
   "id": "a1c3e4c8",
   "metadata": {},
   "outputs": [
    {
     "name": "stdout",
     "output_type": "stream",
     "text": [
      " 'sedem': 0\n",
      " 'Kofi': 1\n",
      " 'kobla': 2\n"
     ]
    }
   ],
   "source": [
    "names = ['sedem', 'Kofi', 'kobla']\n",
    "print_strings_with_positions(names)"
   ]
  },
  {
   "cell_type": "markdown",
   "id": "5593b665",
   "metadata": {},
   "source": [
    "### Q7\n",
    "Define a function that returns whether the sum of a person age and person's date of birth equals 2023\n",
    "\n",
    "**Preamble**\n",
    "\n",
    "2001 + 22 => True\n",
    "\n",
    "2002 + 5 => False"
   ]
  },
  {
   "cell_type": "code",
   "execution_count": 79,
   "id": "f2515623",
   "metadata": {},
   "outputs": [],
   "source": [
    "def is_sum_2023(age, birth_year):\n",
    "    return (age + birth_year) == 2023"
   ]
  },
  {
   "cell_type": "code",
   "execution_count": 80,
   "id": "2cc2ed05",
   "metadata": {},
   "outputs": [
    {
     "data": {
      "text/plain": [
       "True"
      ]
     },
     "execution_count": 80,
     "metadata": {},
     "output_type": "execute_result"
    }
   ],
   "source": [
    "is_sum_2023(22,2001)"
   ]
  },
  {
   "cell_type": "code",
   "execution_count": 81,
   "id": "a62374cd",
   "metadata": {},
   "outputs": [
    {
     "data": {
      "text/plain": [
       "False"
      ]
     },
     "execution_count": 81,
     "metadata": {},
     "output_type": "execute_result"
    }
   ],
   "source": [
    "is_sum_2023(5,2002)"
   ]
  },
  {
   "cell_type": "markdown",
   "id": "f831e652",
   "metadata": {},
   "source": [
    "### Q8\n",
    "Define a function that determine whether a particular year is a **decade**, the output should be a boolean (True or False)\n"
   ]
  },
  {
   "cell_type": "code",
   "execution_count": 84,
   "id": "fd53f932",
   "metadata": {},
   "outputs": [],
   "source": [
    "def is_a_decade(year):\n",
    "    return year%10 == 0"
   ]
  },
  {
   "cell_type": "code",
   "execution_count": 85,
   "id": "bcb846bf",
   "metadata": {},
   "outputs": [
    {
     "data": {
      "text/plain": [
       "False"
      ]
     },
     "execution_count": 85,
     "metadata": {},
     "output_type": "execute_result"
    }
   ],
   "source": [
    "is_a_decade(2025)"
   ]
  },
  {
   "cell_type": "code",
   "execution_count": 88,
   "id": "a3998af5",
   "metadata": {},
   "outputs": [
    {
     "data": {
      "text/plain": [
       "True"
      ]
     },
     "execution_count": 88,
     "metadata": {},
     "output_type": "execute_result"
    }
   ],
   "source": [
    "is_a_decade(2000)"
   ]
  },
  {
   "cell_type": "markdown",
   "id": "211c19e3",
   "metadata": {},
   "source": [
    "### Q9\n",
    "Define a function that contains a list of strings and punctuations,the output should on return the list of punctuations.\n"
   ]
  },
  {
   "cell_type": "code",
   "execution_count": 90,
   "id": "689bc917",
   "metadata": {},
   "outputs": [],
   "source": [
    "import string\n",
    "def get_punctuations(words):\n",
    "    punctuations = []\n",
    "    for word in words:\n",
    "        for char in word:\n",
    "            if char in string.punctuation:\n",
    "                punctuations.append(char)\n",
    "    return punctuations"
   ]
  },
  {
   "cell_type": "code",
   "execution_count": 92,
   "id": "57188652",
   "metadata": {},
   "outputs": [
    {
     "name": "stdout",
     "output_type": "stream",
     "text": [
      "[',', ',', '?']\n"
     ]
    }
   ],
   "source": [
    "words = [\"Hello,My name is Grace,what is yours?\"]\n",
    "punctuations=get_punctuations(words)\n",
    "print(punctuations)"
   ]
  },
  {
   "cell_type": "markdown",
   "id": "34bae9ec",
   "metadata": {},
   "source": [
    "### Q10\n",
    "\n",
    "Define a lambda function that print out the cubic root of a list of numbers"
   ]
  },
  {
   "cell_type": "code",
   "execution_count": 97,
   "id": "8360b333",
   "metadata": {},
   "outputs": [],
   "source": [
    "cube_root = lambda lst: print([round(num**(1/3), 2) for num in lst])"
   ]
  },
  {
   "cell_type": "code",
   "execution_count": 98,
   "id": "4ad8c5a3",
   "metadata": {},
   "outputs": [
    {
     "name": "stdout",
     "output_type": "stream",
     "text": [
      "[3.8, 4.58, 9.6, 13.67, 3.04]\n"
     ]
    }
   ],
   "source": [
    "lst = [55,96,885,2557,28]\n",
    "cube_root(lst)"
   ]
  },
  {
   "cell_type": "markdown",
   "id": "37974632",
   "metadata": {},
   "source": [
    "### Q11\n",
    "Define a lambda function that print out the cube of a list of numbers"
   ]
  },
  {
   "cell_type": "code",
   "execution_count": 108,
   "id": "f644222e",
   "metadata": {},
   "outputs": [],
   "source": [
    "cube_list = lambda list: print([(num**3) for num in list])"
   ]
  },
  {
   "cell_type": "code",
   "execution_count": 109,
   "id": "2769b8bf",
   "metadata": {},
   "outputs": [
    {
     "name": "stdout",
     "output_type": "stream",
     "text": [
      "[512, 125, 343, 1, 216, -216]\n"
     ]
    }
   ],
   "source": [
    "list = [8,5,7,1,6,-6]\n",
    "cube_list(list)"
   ]
  },
  {
   "cell_type": "markdown",
   "id": "b1522dbb",
   "metadata": {},
   "source": [
    "### Q12\n",
    "Define a function that take a list of list of numbers and return a list that contains the average of each sublist using map."
   ]
  },
  {
   "cell_type": "code",
   "execution_count": 167,
   "id": "1e019255",
   "metadata": {},
   "outputs": [],
   "source": [
    "def sublist_averages(lst):\n",
    "    return list(map(lambda x: sum(x)/len(x), lst))"
   ]
  },
  {
   "cell_type": "code",
   "execution_count": 168,
   "id": "704b6886",
   "metadata": {},
   "outputs": [
    {
     "data": {
      "text/plain": [
       "<map at 0x21722d3f760>"
      ]
     },
     "execution_count": 168,
     "metadata": {},
     "output_type": "execute_result"
    }
   ],
   "source": [
    " lst = [[1, 2, 3], [4, 5, 6], [7, 8, 9]]\n",
    "sublist_averages(lst)"
   ]
  },
  {
   "cell_type": "code",
   "execution_count": 172,
   "id": "fb8b074c",
   "metadata": {},
   "outputs": [
    {
     "name": "stdout",
     "output_type": "stream",
     "text": [
      "<map object at 0x0000021722D27AF0>\n"
     ]
    }
   ],
   "source": [
    "print((map(lambda x: sum(x)/len(x), lst)))"
   ]
  },
  {
   "cell_type": "markdown",
   "id": "0fd5cd06",
   "metadata": {},
   "source": [
    "### Q13\n",
    "Define a function that takes a list of strings and filter out strings that are upper case."
   ]
  },
  {
   "cell_type": "code",
   "execution_count": 226,
   "id": "73d71473",
   "metadata": {},
   "outputs": [],
   "source": [
    "def filter_uppercase(strings):\n",
    "    return [s for s in strings if not s.isupper()]"
   ]
  },
  {
   "cell_type": "code",
   "execution_count": 227,
   "id": "614a000f",
   "metadata": {},
   "outputs": [
    {
     "name": "stdout",
     "output_type": "stream",
     "text": [
      "['Hello', 'foo']\n"
     ]
    }
   ],
   "source": [
    "strings = [\"Hello\", \"WORLD\", \"foo\", \"BAR\"]\n",
    "filtered_strings = filter_uppercase(strings)\n",
    "print(filtered_strings)  # Output: ['Hello', 'foo']"
   ]
  },
  {
   "cell_type": "markdown",
   "id": "d0dddd17",
   "metadata": {},
   "source": [
    "### Q14\n",
    "Define a function that takes a list of numbers and print out the numbers which are prime in the list."
   ]
  },
  {
   "cell_type": "code",
   "execution_count": 224,
   "id": "6ce7be49",
   "metadata": {},
   "outputs": [],
   "source": [
    "def print_prime_numbers(numbers):\n",
    "    for num in numbers:\n",
    "        if num > 1:\n",
    "            for i in range(2, num):\n",
    "                if (num % i) == 0:\n",
    "                    break\n",
    "            else:\n",
    "                print(num)"
   ]
  },
  {
   "cell_type": "code",
   "execution_count": 225,
   "id": "025e4885",
   "metadata": {},
   "outputs": [
    {
     "name": "stdout",
     "output_type": "stream",
     "text": [
      "2\n",
      "5\n",
      "7\n"
     ]
    }
   ],
   "source": [
    "numbers=[2,5,7,9]\n",
    "print_prime_numbers(numbers)"
   ]
  },
  {
   "cell_type": "markdown",
   "id": "240741dc",
   "metadata": {},
   "source": [
    "### Q15\n",
    "Define a function that take a list of strings and return a zip of each string and length of a string."
   ]
  },
  {
   "cell_type": "code",
   "execution_count": 220,
   "id": "c60c273d",
   "metadata": {},
   "outputs": [],
   "source": [
    "def string_zipper(strings):\n",
    "    return zip(strings, map(len, strings))"
   ]
  },
  {
   "cell_type": "code",
   "execution_count": 222,
   "id": "ef2832e0",
   "metadata": {},
   "outputs": [
    {
     "name": "stdout",
     "output_type": "stream",
     "text": [
      "hello 5\n",
      "world 5\n",
      "python 6\n"
     ]
    }
   ],
   "source": [
    "strings = [\"hello\", \"world\", \"python\"]\n",
    "zipped = string_zipper(strings)\n",
    "\n",
    "for string, length in zipped:\n",
    "    print(string, length)"
   ]
  },
  {
   "cell_type": "markdown",
   "id": "44a1339f",
   "metadata": {},
   "source": [
    "### Q16\n",
    "Define a function that takes in a number and return the first 12 multiples of the the number.\n",
    "\n",
    "Expected Output\n",
    "\n",
    "2 X 1 = 2\n",
    "\n",
    "to\n",
    "\n",
    "2 X 12 = 24"
   ]
  },
  {
   "cell_type": "code",
   "execution_count": 212,
   "id": "55acd949",
   "metadata": {},
   "outputs": [],
   "source": [
    "def multiples(num):\n",
    "    for i in range(13):\n",
    "        print(f\"{num}x{i}={num*i}\")"
   ]
  },
  {
   "cell_type": "code",
   "execution_count": 215,
   "id": "8057b8cf",
   "metadata": {},
   "outputs": [
    {
     "name": "stdout",
     "output_type": "stream",
     "text": [
      "2x0=0\n",
      "2x1=2\n",
      "2x2=4\n",
      "2x3=6\n",
      "2x4=8\n",
      "2x5=10\n",
      "2x6=12\n",
      "2x7=14\n",
      "2x8=16\n",
      "2x9=18\n",
      "2x10=20\n",
      "2x11=22\n",
      "2x12=24\n"
     ]
    }
   ],
   "source": [
    "multiples(2)"
   ]
  },
  {
   "cell_type": "markdown",
   "id": "cd63dd99",
   "metadata": {},
   "source": [
    "### Q17\n",
    "Write a Python function to find the maximum of three numbers.\n",
    "\n",
    "**Do not use the max function**"
   ]
  },
  {
   "cell_type": "code",
   "execution_count": 209,
   "id": "ae2c7d31",
   "metadata": {},
   "outputs": [],
   "source": [
    "def find_max(x, y, z):\n",
    "    max_num = x\n",
    "    if y > max_num:\n",
    "        max_num = y\n",
    "    if z> max_num:\n",
    "        max_num = z\n",
    "    return max_num"
   ]
  },
  {
   "cell_type": "code",
   "execution_count": 210,
   "id": "bb3d54a8",
   "metadata": {},
   "outputs": [
    {
     "data": {
      "text/plain": [
       "8"
      ]
     },
     "execution_count": 210,
     "metadata": {},
     "output_type": "execute_result"
    }
   ],
   "source": [
    "find_max(2,4,8)"
   ]
  },
  {
   "cell_type": "markdown",
   "id": "67520c0b",
   "metadata": {},
   "source": [
    "### Q18\n",
    "Write a Python function to multiply all the numbers in a list."
   ]
  },
  {
   "cell_type": "code",
   "execution_count": 201,
   "id": "7415e208",
   "metadata": {},
   "outputs": [],
   "source": [
    "def multiply(numbers):\n",
    "    result = 1\n",
    "    for num in numbers:\n",
    "        result *= num\n",
    "    return result"
   ]
  },
  {
   "cell_type": "code",
   "execution_count": 202,
   "id": "654bdd0b",
   "metadata": {},
   "outputs": [
    {
     "data": {
      "text/plain": [
       "504"
      ]
     },
     "execution_count": 202,
     "metadata": {},
     "output_type": "execute_result"
    }
   ],
   "source": [
    "numbers=[2,4,7,9]\n",
    "multiply(numbers)"
   ]
  },
  {
   "cell_type": "markdown",
   "id": "05891582",
   "metadata": {},
   "source": [
    "### Q19\n",
    "Write a Python program to reverse a string"
   ]
  },
  {
   "cell_type": "code",
   "execution_count": 198,
   "id": "c210ef43",
   "metadata": {},
   "outputs": [],
   "source": [
    "def reverse(word):\n",
    "    return word[::-1]"
   ]
  },
  {
   "cell_type": "code",
   "execution_count": 199,
   "id": "d09018c4",
   "metadata": {},
   "outputs": [
    {
     "data": {
      "text/plain": [
       "'ecarG'"
      ]
     },
     "execution_count": 199,
     "metadata": {},
     "output_type": "execute_result"
    }
   ],
   "source": [
    "word=\"Grace\"\n",
    "reverse(word)"
   ]
  },
  {
   "cell_type": "markdown",
   "id": "b9025ac8",
   "metadata": {},
   "source": [
    "### Q20\n",
    "Write a python function to return the length of a string."
   ]
  },
  {
   "cell_type": "markdown",
   "id": "8d1ee176",
   "metadata": {},
   "source": [
    "Have a lovely coding weekend"
   ]
  },
  {
   "cell_type": "code",
   "execution_count": 192,
   "id": "364a2bca",
   "metadata": {},
   "outputs": [],
   "source": [
    "def length(string):\n",
    "    return len(string)"
   ]
  },
  {
   "cell_type": "code",
   "execution_count": 193,
   "id": "a8b4db19",
   "metadata": {},
   "outputs": [
    {
     "data": {
      "text/plain": [
       "28"
      ]
     },
     "execution_count": 193,
     "metadata": {},
     "output_type": "execute_result"
    }
   ],
   "source": [
    "string = \"Have a lovely coding weekend\"\n",
    "length(string)"
   ]
  }
 ],
 "metadata": {
  "kernelspec": {
   "display_name": "Python 3 (ipykernel)",
   "language": "python",
   "name": "python3"
  },
  "language_info": {
   "codemirror_mode": {
    "name": "ipython",
    "version": 3
   },
   "file_extension": ".py",
   "mimetype": "text/x-python",
   "name": "python",
   "nbconvert_exporter": "python",
   "pygments_lexer": "ipython3",
   "version": "3.9.13"
  }
 },
 "nbformat": 4,
 "nbformat_minor": 5
}
